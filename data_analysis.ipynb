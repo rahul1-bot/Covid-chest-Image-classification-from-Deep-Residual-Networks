{
 "metadata": {
  "language_info": {
   "codemirror_mode": {
    "name": "ipython",
    "version": 3
   },
   "file_extension": ".py",
   "mimetype": "text/x-python",
   "name": "python",
   "nbconvert_exporter": "python",
   "pygments_lexer": "ipython3",
   "version": "3.8.5"
  },
  "orig_nbformat": 2,
  "kernelspec": {
   "name": "python385jvsc74a57bd0c5e48f84046969b800ff52f6d80523bcd1ca3fb1a99f1449e4197bf6c73dc096",
   "display_name": "Python 3.8.5 64-bit ('base': conda)"
  }
 },
 "nbformat": 4,
 "nbformat_minor": 2,
 "cells": [
  {
   "cell_type": "code",
   "execution_count": 14,
   "metadata": {},
   "outputs": [],
   "source": [
    "from main_module import *\n",
    "\n",
    "# torch - typing scripts\n",
    "_path =  NewType(\"_path\", Any)\n",
    "_transform = NewType(\"_transform\", Any)\n",
    "_img = NewType(\"_img\", Any)\n",
    "_criterion = NewType(\"_criterion\", Any)\n",
    "_optimizer = NewType(\"_optimizer\", Any)\n",
    "_loss = NewType(\"_loss\", Any)\n",
    "_layer = NewType(\"_layer\", Any)\n",
    "_activation = NewType(\"_activation\", Any)\n",
    "_text = NewType(\"_text\", Any)\n",
    "_plot = NewType(\"_plot\", Any)\n",
    "_loader = NewType(\"_loader\", Any)\n",
    "_recurse = NewType(\"_recurse\", Any)\n",
    "\n",
    "__name__: typing.__name__ = '__main_module__', '__main__'\n",
    "\n",
    "\n",
    "def generate(*args: list[Any], **kwargs: dict[Any, Any]) -> Generator[Any, None, None]:\n",
    "    if args:\n",
    "        for item in args:\n",
    "            yield item\n",
    "    if kwargs:\n",
    "        for item, value in kwargs.items():\n",
    "            yield f\"{item}: {value}\"\n",
    "    \n",
    "\n",
    "# name_space_1\n",
    "if __name__.__contains__('__main_module__'):\n",
    "    gen_object: Generator[Any, None, None] = generate()\n",
    "    while True:\n",
    "        try: print(gen_object.__next__())\n",
    "        except StopIteration: break\n",
    "\n",
    "\n",
    "# name_space_2\n",
    "if __name__.__contains__('__main__'):\n",
    "    path: _path = \"C:\\\\Users\\\\Lenovo\\\\OneDrive\\\\Desktop\\\\covid\\\\Covid19-dataset\"\n",
    "\n"
   ]
  },
  {
   "cell_type": "code",
   "execution_count": null,
   "metadata": {},
   "outputs": [],
   "source": []
  }
 ]
}