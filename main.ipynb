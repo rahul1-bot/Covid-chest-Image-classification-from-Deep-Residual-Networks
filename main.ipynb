{
 "metadata": {
  "language_info": {
   "codemirror_mode": {
    "name": "ipython",
    "version": 3
   },
   "file_extension": ".py",
   "mimetype": "text/x-python",
   "name": "python",
   "nbconvert_exporter": "python",
   "pygments_lexer": "ipython3",
   "version": "3.8.5"
  },
  "orig_nbformat": 2,
  "kernelspec": {
   "name": "python385jvsc74a57bd0c5e48f84046969b800ff52f6d80523bcd1ca3fb1a99f1449e4197bf6c73dc096",
   "display_name": "Python 3.8.5 64-bit ('base': conda)"
  }
 },
 "nbformat": 4,
 "nbformat_minor": 2,
 "cells": [
  {
   "cell_type": "code",
   "execution_count": 2,
   "metadata": {},
   "outputs": [],
   "source": [
    "from __future__ import annotations\n",
    "from pipeline_1 import *\n",
    "from pipeline_2 import *\n",
    "from pipeline_3 import *\n",
    "from typing import Any, Generator, Container\n",
    "from torchvision.datasets import ImageFolder\n",
    "\n",
    "from IPython.core.interactiveshell import InteractiveShell\n",
    "InteractiveShell.ast_node_interactivity = \"all\"\n",
    "\n",
    "# Torch Typing Scripts\n",
    "_path =  NewType(\"_path\", Any)\n",
    "_transform = NewType(\"_transform\", Any)\n",
    "_img = NewType(\"_img\", Any)\n",
    "_criterion = NewType(\"_criterion\", Any)\n",
    "_optimizer = NewType(\"_optimizer\", Any)\n",
    "_loss = NewType(\"_loss\", Any)\n",
    "_layer = NewType(\"_layer\", Any)\n",
    "_activation = NewType(\"_activation\", Any)\n",
    "_text = NewType(\"_text\", Any)\n",
    "_plot = NewType(\"_plot\", Any)\n",
    "_loader = NewType(\"_loader\", Any)\n",
    "_recurse = NewType(\"_recurse\", Any)"
   ]
  },
  {
   "cell_type": "code",
   "execution_count": 5,
   "metadata": {
    "tags": []
   },
   "outputs": [
    {
     "output_type": "execute_result",
     "data": {
      "text/plain": [
       "\"\\n    gen_object: Generator = generate(training_data_loader, \\n                                     testing_data_loader, \\n                                     device)\\n    while True:\\n        try: \\n            print('-'*100)\\n            print(gen_object.__next__())\\n       \\n     except StopIteration: break\\n     \""
      ]
     },
     "metadata": {},
     "execution_count": 5
    }
   ],
   "source": [
    "def generate(*args: list[Any], **kwargs: dict[Any, Any]) -> Generator[Any, None, None]:\n",
    "    if args:\n",
    "        for item in args:\n",
    "            yield item\n",
    "    if kwargs:\n",
    "        for item, value in kwargs.items():\n",
    "            yield f\"{item} : {value}\"\n",
    "\n",
    "\n",
    "# Driver code\n",
    "if __name__.__contains__('__main__'):\n",
    "    # path: _path= \"C:\\\\Users\\\\Lenovo\\\\OneDrive\\\\Desktop\\\\__Desktop\\\\covid\\\\Covid19-dataset\\\\\" \n",
    "    # sub_path: list[str] = ['train', 'test']\n",
    "    # training_data_loader: _loader = CovidDataset(\n",
    "    #                                         path= path, \n",
    "    #                                         sub_path= sub_path[0], \n",
    "    #                                         batch_size= 20, \n",
    "    #                                         transform= CovidPreprocess.train_transform_container())\n",
    "    \n",
    "    # testing_data_loader: _loader = CovidDataset(path= path, \n",
    "    #                                             sub_path= sub_path[1], \n",
    "    #                                             batch_size= 20, \n",
    "    #                                             transform= CovidPreprocess.test_transform_container())\n",
    "    \n",
    "    train_ds = ImageFolder(\"C:\\\\Users\\\\Lenovo\\\\OneDrive\\\\Desktop\\\\__Desktop\\\\covid\\\\Covid19-dataset\\\\train\", \n",
    "                            CovidPreprocess.train_transform_container())\n",
    "    \n",
    "    test_ds = ImageFolder(\"C:\\\\Users\\\\Lenovo\\\\OneDrive\\\\Desktop\\\\__Desktop\\\\covid\\\\Covid19-dataset\\\\test\",\n",
    "                            CovidPreprocess.test_transform_container())\n",
    "\n",
    "    train_dl = DataLoader(train_ds, batch_size= 16, shuffle= True, num_workers= 3, pin_memory= True )\n",
    "    test_dl = DataLoader(test_ds, batch_size= 16, num_workers= 3, pin_memory= True )\n",
    "\n",
    "    #device: Any = GPU_Acceleration(train_loader= training_data_loader, \n",
    "     #                              device= 'cpu')\n",
    "    \n",
    "    CNN_model: _model = CNNModel(2)\n",
    "\n",
    "    model_2: _model = ResNet9(3, 3)\n",
    "    \n",
    "    resnet: _model = PretrainedModels.ResNet()\n",
    "    Inception: _model = PretrainedModels.Inception()\n",
    "\n",
    "    '''\n",
    "    gen_object: Generator = generate(training_data_loader, \n",
    "                                     testing_data_loader, \n",
    "                                     device)\n",
    "    while True:\n",
    "        try: \n",
    "            print('-'*100)\n",
    "            print(gen_object.__next__())\n",
    "       \n",
    "     except StopIteration: break\n",
    "     '''\n",
    "\n",
    "    \n",
    "    "
   ]
  },
  {
   "cell_type": "code",
   "execution_count": null,
   "metadata": {},
   "outputs": [],
   "source": [
    "print(CNN_model)"
   ]
  },
  {
   "cell_type": "code",
   "execution_count": null,
   "metadata": {},
   "outputs": [],
   "source": [
    "print(resnet)"
   ]
  },
  {
   "cell_type": "code",
   "execution_count": null,
   "metadata": {},
   "outputs": [],
   "source": [
    "print(Inception)"
   ]
  },
  {
   "cell_type": "code",
   "execution_count": 8,
   "metadata": {},
   "outputs": [
    {
     "output_type": "stream",
     "name": "stdout",
     "text": [
      "[{'val_loss': 1.0993157625198364, 'val_acc': 0.25}]\n",
      "Epoch [0], last_lr: 0.00049, train_loss: 1.2953, val_loss: 4.7973, val_acc: 0.3250\n",
      "Epoch [1], last_lr: 0.00079, train_loss: 0.4482, val_loss: 1.4499, val_acc: 0.5625\n",
      "Epoch [2], last_lr: 0.00129, train_loss: 0.2554, val_loss: 0.2257, val_acc: 0.9375\n",
      "Epoch [3], last_lr: 0.00195, train_loss: 0.2669, val_loss: 0.5580, val_acc: 0.8000\n",
      "Epoch [4], last_lr: 0.00276, train_loss: 0.4128, val_loss: 0.2998, val_acc: 0.8875\n",
      "Epoch [5], last_lr: 0.00368, train_loss: 0.1376, val_loss: 1.2454, val_acc: 0.7500\n",
      "Epoch [6], last_lr: 0.00466, train_loss: 0.5910, val_loss: 4.1161, val_acc: 0.5000\n",
      "Epoch [7], last_lr: 0.00567, train_loss: 0.5243, val_loss: 1.6469, val_acc: 0.6375\n",
      "Epoch [8], last_lr: 0.00666, train_loss: 0.4186, val_loss: 3.1384, val_acc: 0.5250\n",
      "Epoch [9], last_lr: 0.00758, train_loss: 0.8241, val_loss: 9.6543, val_acc: 0.2875\n",
      "Epoch [10], last_lr: 0.00840, train_loss: 0.4357, val_loss: 2.9331, val_acc: 0.6125\n",
      "Epoch [11], last_lr: 0.00908, train_loss: 0.3152, val_loss: 7.1619, val_acc: 0.3250\n",
      "Epoch [12], last_lr: 0.00958, train_loss: 0.6277, val_loss: 13.5580, val_acc: 0.4250\n",
      "Epoch [13], last_lr: 0.00989, train_loss: 0.6926, val_loss: 0.5863, val_acc: 0.9250\n",
      "Epoch [14], last_lr: 0.01000, train_loss: 0.5896, val_loss: 4.9964, val_acc: 0.4750\n",
      "Epoch [15], last_lr: 0.00998, train_loss: 0.9635, val_loss: 0.3829, val_acc: 0.8750\n",
      "Epoch [16], last_lr: 0.00992, train_loss: 0.7533, val_loss: 8.0723, val_acc: 0.5750\n",
      "Epoch [17], last_lr: 0.00982, train_loss: 0.7168, val_loss: 15.6971, val_acc: 0.3250\n",
      "Epoch [18], last_lr: 0.00968, train_loss: 0.2424, val_loss: 0.7725, val_acc: 0.8000\n",
      "Epoch [19], last_lr: 0.00950, train_loss: 0.2933, val_loss: 4.3006, val_acc: 0.7250\n",
      "Epoch [20], last_lr: 0.00929, train_loss: 0.4850, val_loss: 1.1024, val_acc: 0.7875\n",
      "Epoch [21], last_lr: 0.00905, train_loss: 0.4937, val_loss: 3.1683, val_acc: 0.6500\n",
      "Epoch [22], last_lr: 0.00877, train_loss: 0.6183, val_loss: 3.7759, val_acc: 0.6625\n",
      "Epoch [23], last_lr: 0.00846, train_loss: 0.4422, val_loss: 10.3985, val_acc: 0.3500\n",
      "Epoch [24], last_lr: 0.00812, train_loss: 0.2122, val_loss: 0.5579, val_acc: 0.9000\n",
      "Epoch [25], last_lr: 0.00775, train_loss: 0.1766, val_loss: 1.5946, val_acc: 0.8000\n",
      "Epoch [26], last_lr: 0.00737, train_loss: 0.4375, val_loss: 6.7179, val_acc: 0.5875\n",
      "Epoch [27], last_lr: 0.00697, train_loss: 0.2521, val_loss: 1.7636, val_acc: 0.8500\n",
      "Epoch [28], last_lr: 0.00655, train_loss: 0.3090, val_loss: 2.0997, val_acc: 0.8375\n",
      "Epoch [29], last_lr: 0.00611, train_loss: 0.2595, val_loss: 0.6981, val_acc: 0.8250\n",
      "Epoch [30], last_lr: 0.00567, train_loss: 0.1305, val_loss: 1.3687, val_acc: 0.8000\n",
      "Epoch [31], last_lr: 0.00522, train_loss: 0.2018, val_loss: 0.9935, val_acc: 0.8500\n",
      "Epoch [32], last_lr: 0.00478, train_loss: 0.1408, val_loss: 0.7452, val_acc: 0.8625\n",
      "Epoch [33], last_lr: 0.00433, train_loss: 0.1751, val_loss: 0.2036, val_acc: 0.9500\n",
      "Epoch [34], last_lr: 0.00389, train_loss: 0.0953, val_loss: 0.3130, val_acc: 0.9625\n",
      "Epoch [35], last_lr: 0.00345, train_loss: 0.0679, val_loss: 0.2337, val_acc: 0.8375\n",
      "Epoch [36], last_lr: 0.00303, train_loss: 0.0649, val_loss: 0.7727, val_acc: 0.8125\n",
      "Epoch [37], last_lr: 0.00263, train_loss: 0.0218, val_loss: 0.1277, val_acc: 0.9750\n",
      "Epoch [38], last_lr: 0.00225, train_loss: 0.0397, val_loss: 0.0924, val_acc: 0.9500\n",
      "Epoch [39], last_lr: 0.00188, train_loss: 0.0384, val_loss: 0.2173, val_acc: 0.9375\n",
      "Epoch [40], last_lr: 0.00154, train_loss: 0.0422, val_loss: 0.3464, val_acc: 0.9125\n",
      "Epoch [41], last_lr: 0.00123, train_loss: 0.0541, val_loss: 0.1616, val_acc: 0.9625\n",
      "Epoch [42], last_lr: 0.00095, train_loss: 0.0316, val_loss: 0.1956, val_acc: 0.9500\n",
      "Epoch [43], last_lr: 0.00071, train_loss: 0.0094, val_loss: 0.2244, val_acc: 0.9500\n",
      "Epoch [44], last_lr: 0.00050, train_loss: 0.0037, val_loss: 0.2568, val_acc: 0.9500\n",
      "Epoch [45], last_lr: 0.00032, train_loss: 0.0124, val_loss: 0.2422, val_acc: 0.9500\n",
      "Epoch [46], last_lr: 0.00018, train_loss: 0.0086, val_loss: 0.2315, val_acc: 0.9500\n",
      "Epoch [47], last_lr: 0.00008, train_loss: 0.0097, val_loss: 0.2308, val_acc: 0.9500\n",
      "Epoch [48], last_lr: 0.00002, train_loss: 0.0014, val_loss: 0.2283, val_acc: 0.9500\n",
      "Epoch [49], last_lr: 0.00000, train_loss: 0.0090, val_loss: 0.2285, val_acc: 0.9500\n"
     ]
    }
   ],
   "source": [
    "if __name__.__contains__('__main__'):\n",
    "    history: list[dict[str, float]] = [ Train_Test_fit().evaluate(model_2, test_dl) ]\n",
    "    print(history)\n",
    "\n",
    "    #@: ---- \n",
    "    epochs = 50\n",
    "    max_lr = 0.01\n",
    "    grad_clip = 0.1\n",
    "    weight_decay = 1e-4\n",
    "    opt_func = torch.optim.Adam\n",
    "    #@: -----\n",
    "\n",
    "    history += Train_Test_fit().fit_one_cycle(epochs= epochs,\n",
    "                                             max_learning_rate= max_lr,\n",
    "                                             model= model_2,\n",
    "                                             train_loader= train_dl,\n",
    "                                             val_loader= test_dl,\n",
    "                                             weight_decay=weight_decay,\n",
    "                                             grad_clip= grad_clip,\n",
    "                                             opt_function= opt_func)\n",
    "                                             "
   ]
  },
  {
   "cell_type": "code",
   "execution_count": 9,
   "metadata": {},
   "outputs": [],
   "source": [
    "EvaluateCNN.accuracy_vs_no_of_epochs(history= history)"
   ]
  },
  {
   "cell_type": "code",
   "execution_count": null,
   "metadata": {},
   "outputs": [],
   "source": []
  }
 ]
}